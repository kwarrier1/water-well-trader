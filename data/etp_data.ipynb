{
 "cells": [
  {
   "metadata": {
    "ExecuteTime": {
     "end_time": "2025-02-08T19:15:00.722199Z",
     "start_time": "2025-02-08T19:15:00.183454Z"
    }
   },
   "cell_type": "code",
   "source": [
    "# Imports\n",
    "import yfinance as yf\n",
    "import pandas as pd"
   ],
   "id": "e9763a8cc980d9b",
   "outputs": [],
   "execution_count": 3
  },
  {
   "metadata": {
    "ExecuteTime": {
     "end_time": "2025-02-08T19:30:30.116053Z",
     "start_time": "2025-02-08T19:30:30.113199Z"
    }
   },
   "cell_type": "code",
   "source": [
    "# Tickers to track\n",
    "tickers = [\"FPI\", \"CWT\", \"AVO\", \"ZC=F\", \"CDZI\"]"
   ],
   "id": "93978340b6b8857d",
   "outputs": [],
   "execution_count": 27
  },
  {
   "metadata": {
    "ExecuteTime": {
     "end_time": "2025-02-08T19:30:31.295576Z",
     "start_time": "2025-02-08T19:30:31.292446Z"
    }
   },
   "cell_type": "code",
   "source": [
    "# Approximate date range of well water data\n",
    "start_date = \"2023-11-25\"\n",
    "end_date = \"2025-02-07\""
   ],
   "id": "7cbcb5c064df1da5",
   "outputs": [],
   "execution_count": 28
  },
  {
   "metadata": {
    "ExecuteTime": {
     "end_time": "2025-02-08T20:39:03.010668Z",
     "start_time": "2025-02-08T20:39:02.955196Z"
    }
   },
   "cell_type": "code",
   "source": [
    "# Getting data, formatting\n",
    "etp_data = yf.download(tickers, start=start_date, end=end_date)\n",
    "etp_data = etp_data['Close']\n",
    "etp_data.to_csv(\"etp-data.csv\")"
   ],
   "id": "8aab42b6f81d72b5",
   "outputs": [
    {
     "name": "stderr",
     "output_type": "stream",
     "text": [
      "[*********************100%***********************]  5 of 5 completed\n"
     ]
    }
   ],
   "execution_count": 45
  }
 ],
 "metadata": {
  "kernelspec": {
   "name": "python3",
   "language": "python",
   "display_name": "Python 3 (ipykernel)"
  }
 },
 "nbformat": 5,
 "nbformat_minor": 9
}
