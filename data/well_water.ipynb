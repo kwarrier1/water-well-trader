{
 "cells": [
  {
   "metadata": {
    "ExecuteTime": {
     "end_time": "2025-02-07T23:04:00.956886Z",
     "start_time": "2025-02-07T23:04:00.949324Z"
    }
   },
   "cell_type": "code",
   "source": [
    "import pandas as pd\n",
    "import datetime as dt"
   ],
   "id": "ca5c06582c0cacea",
   "outputs": [],
   "execution_count": 34
  },
  {
   "metadata": {
    "ExecuteTime": {
     "end_time": "2025-02-08T19:08:30.868193Z",
     "start_time": "2025-02-08T19:08:30.418327Z"
    }
   },
   "cell_type": "code",
   "source": [
    "# Initial pre-processing of dataframe\n",
    "df = pd.read_csv('raw-well-data.csv')\n",
    "df = df[['msmt_date', 'gwe']]\n",
    "df['msmt_date'] = pd.to_datetime(df['msmt_date']).dt.date\n",
    "print(df.head())\n",
    "print(df.tail())"
   ],
   "id": "470ab3ac4907d418",
   "outputs": [
    {
     "name": "stdout",
     "output_type": "stream",
     "text": [
      "    msmt_date      gwe\n",
      "0  2025-02-07   -20.38\n",
      "1  2025-02-07     8.32\n",
      "2  2025-02-07    23.92\n",
      "3  2025-02-07    25.21\n",
      "4  2025-02-07  1340.14\n",
      "         msmt_date       gwe\n",
      "255995  2023-11-25   290.640\n",
      "255996  2023-11-25  5611.980\n",
      "255997  2023-11-25   697.300\n",
      "255998  2023-11-25   477.264\n",
      "255999  2023-11-25   653.100\n"
     ]
    }
   ],
   "execution_count": 72
  },
  {
   "metadata": {
    "ExecuteTime": {
     "end_time": "2025-02-08T20:47:17.749766Z",
     "start_time": "2025-02-08T20:47:17.661278Z"
    }
   },
   "cell_type": "code",
   "source": [
    "daily_avg = df.groupby(\"msmt_date\", as_index = False)['gwe'].mean()\n",
    "daily_avg = daily_avg.rename(columns={'msmt_date': 'Date', 'gwe': 'Mean GWE'})\n",
    "daily_avg.to_csv('processed-well-data.csv')"
   ],
   "id": "2b750951fc35ba55",
   "outputs": [
    {
     "name": "stdout",
     "output_type": "stream",
     "text": [
      "         Date    Mean GWE\n",
      "0  2023-11-25  719.025407\n",
      "1  2023-11-26  514.380181\n",
      "2  2023-11-27  529.039722\n",
      "3  2023-11-28  559.814092\n",
      "4  2023-11-29  544.399767\n"
     ]
    }
   ],
   "execution_count": 82
  },
  {
   "metadata": {},
   "cell_type": "code",
   "outputs": [],
   "execution_count": null,
   "source": "",
   "id": "a0b550fc8b3cc418"
  }
 ],
 "metadata": {
  "kernelspec": {
   "name": "python3",
   "language": "python",
   "display_name": "Python 3 (ipykernel)"
  }
 },
 "nbformat": 5,
 "nbformat_minor": 9
}
