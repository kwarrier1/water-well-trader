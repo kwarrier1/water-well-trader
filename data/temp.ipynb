{
 "cells": [
  {
   "metadata": {
    "ExecuteTime": {
     "end_time": "2025-02-09T02:03:23.856772Z",
     "start_time": "2025-02-09T02:03:23.368995Z"
    }
   },
   "cell_type": "code",
   "source": [
    "import pandas as pd\n",
    "import requests"
   ],
   "id": "c14d077e1e025d3",
   "outputs": [],
   "execution_count": 1
  },
  {
   "metadata": {
    "ExecuteTime": {
     "end_time": "2025-02-09T05:49:41.966439Z",
     "start_time": "2025-02-09T05:49:40.890163Z"
    }
   },
   "cell_type": "code",
   "source": [
    "# Approximate date range of well water data\n",
    "start_date = \"2023-11-25\"\n",
    "end_date = \"2025-02-07\"\n",
    "url = f\"https://www.ncdc.noaa.gov/cag/statewide/time-series/4-tavg-12-{start_date}-{end_date}.json\"\n",
    "response = requests.get(url)"
   ],
   "id": "7e0f8285289c051b",
   "outputs": [],
   "execution_count": 8
  },
  {
   "metadata": {
    "ExecuteTime": {
     "end_time": "2025-02-09T02:08:47.978493Z",
     "start_time": "2025-02-09T02:08:47.851692Z"
    }
   },
   "cell_type": "code",
   "source": [
    "df = pd.DataFrame(data['data'])\n",
    "print(df.head())"
   ],
   "id": "884504c04ebd5ede",
   "outputs": [
    {
     "ename": "NameError",
     "evalue": "name 'data' is not defined",
     "output_type": "error",
     "traceback": [
      "\u001B[0;31m---------------------------------------------------------------------------\u001B[0m",
      "\u001B[0;31mNameError\u001B[0m                                 Traceback (most recent call last)",
      "Cell \u001B[0;32mIn[3], line 1\u001B[0m\n\u001B[0;32m----> 1\u001B[0m df \u001B[38;5;241m=\u001B[39m pd\u001B[38;5;241m.\u001B[39mDataFrame(\u001B[43mdata\u001B[49m[\u001B[38;5;124m'\u001B[39m\u001B[38;5;124mdata\u001B[39m\u001B[38;5;124m'\u001B[39m])\n\u001B[1;32m      2\u001B[0m \u001B[38;5;28mprint\u001B[39m(df\u001B[38;5;241m.\u001B[39mhead())\n",
      "\u001B[0;31mNameError\u001B[0m: name 'data' is not defined"
     ]
    }
   ],
   "execution_count": 3
  }
 ],
 "metadata": {
  "kernelspec": {
   "name": "python3",
   "language": "python",
   "display_name": "Python 3 (ipykernel)"
  }
 },
 "nbformat": 5,
 "nbformat_minor": 9
}
